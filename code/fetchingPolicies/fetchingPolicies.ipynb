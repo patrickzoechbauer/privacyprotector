{
 "cells": [
  {
   "cell_type": "code",
   "execution_count": 146,
   "id": "1e2bf535",
   "metadata": {},
   "outputs": [],
   "source": [
    "import json\n",
    "import pandas as pd\n",
    "import glob, os"
   ]
  },
  {
   "cell_type": "code",
   "execution_count": 188,
   "id": "d187af30",
   "metadata": {},
   "outputs": [],
   "source": [
    "#input: \n",
    "number_of_policies = 100\n",
    "year = 2019"
   ]
  },
  {
   "cell_type": "code",
   "execution_count": 189,
   "id": "d597a30b",
   "metadata": {},
   "outputs": [],
   "source": [
    "#load log files from GitHub\n",
    "with open('gitHubLog.json') as f:\n",
    "    lines = f.read().splitlines()\n",
    "lines = list(filter((',').__ne__, lines))\n",
    "lines = ['},' if x == '}' else x for x in lines]\n",
    "lines[-1] = '}'\n",
    "lines.insert(0, '[')\n",
    "lines.append(']')\n",
    "data = json.loads(''.join(lines))\n",
    "\n",
    "#Convert to pandas df\n",
    "df = pd.json_normalize(data)"
   ]
  },
  {
   "cell_type": "code",
   "execution_count": 190,
   "id": "c01db1ee",
   "metadata": {},
   "outputs": [],
   "source": [
    "path_privacy_policies = '/Users/patrickzoechbauer/Documents/LawCS/privacy-policy-historical'\n",
    "\n",
    "#select random subsample\n",
    "df_2019 = df[df['year'] == year]\n",
    "sites = list(df_2019.sample(number_of_policies)['site_hostname'])"
   ]
  },
  {
   "cell_type": "code",
   "execution_count": null,
   "id": "744f5141",
   "metadata": {},
   "outputs": [],
   "source": [
    "all_files = []\n",
    "for website in sites:\n",
    "    text_files = glob.glob(path_privacy_policies + \"/**/\"+website+\".md\", \n",
    "                           recursive = True)\n",
    "    all_files.append(text_files)"
   ]
  },
  {
   "cell_type": "code",
   "execution_count": 186,
   "id": "63fdf67f",
   "metadata": {},
   "outputs": [
    {
     "data": {
      "text/plain": [
       "['oracle.com',\n",
       " 'typescriptlang.org',\n",
       " 'falacultura.com',\n",
       " 'ieee-cas.org',\n",
       " 'monkeyzen.com']"
      ]
     },
     "execution_count": 186,
     "metadata": {},
     "output_type": "execute_result"
    }
   ],
   "source": [
    "all_files\n",
    "sites"
   ]
  },
  {
   "cell_type": "code",
   "execution_count": 187,
   "id": "c8abc389",
   "metadata": {},
   "outputs": [
    {
     "name": "stdout",
     "output_type": "stream",
     "text": [
      "cp /Users/patrickzoechbauer/Documents/LawCS/privacy-policy-historical/o/or/ora/oracle.com.md /Users/patrickzoechbauer/Documents/LawCS/privacyprotector/data/privacyPolicies/oracle.com.md\n",
      "cp /Users/patrickzoechbauer/Documents/LawCS/privacy-policy-historical/t/ty/typ/typescriptlang.org.md /Users/patrickzoechbauer/Documents/LawCS/privacyprotector/data/privacyPolicies/typescriptlang.org.md\n",
      "cp /Users/patrickzoechbauer/Documents/LawCS/privacy-policy-historical/f/fa/fal/falacultura.com.md /Users/patrickzoechbauer/Documents/LawCS/privacyprotector/data/privacyPolicies/falacultura.com.md\n",
      "cp /Users/patrickzoechbauer/Documents/LawCS/privacy-policy-historical/i/ie/iee/ieee-cas.org.md /Users/patrickzoechbauer/Documents/LawCS/privacyprotector/data/privacyPolicies/ieee-cas.org.md\n",
      "cp /Users/patrickzoechbauer/Documents/LawCS/privacy-policy-historical/m/mo/mon/monkeyzen.com.md /Users/patrickzoechbauer/Documents/LawCS/privacyprotector/data/privacyPolicies/monkeyzen.com.md\n"
     ]
    }
   ],
   "source": [
    "#copy file into folder \n",
    "for i in range(len(sites)):\n",
    "    website = sites[i]\n",
    "    file_src = all_files[i][0]\n",
    "    dest_path = '/Users/patrickzoechbauer/Documents/LawCS/privacyprotector/data/privacyPolicies'\n",
    "    cmd = 'cp '+ file_src + ' ' + dest_path+'/'+website+\".md\"\n",
    "    print(cmd)\n",
    "    os.popen(cmd)\n",
    "\n"
   ]
  },
  {
   "cell_type": "code",
   "execution_count": 167,
   "id": "bb8ce413",
   "metadata": {},
   "outputs": [],
   "source": [
    "#Split file into paragraphs"
   ]
  },
  {
   "cell_type": "code",
   "execution_count": 178,
   "id": "9b757360",
   "metadata": {},
   "outputs": [
    {
     "data": {
      "text/plain": [
       "['/Users/patrickzoechbauer/Documents/LawCS/privacy-policy-historical/4/4s/4sq/4sq.com.md']"
      ]
     },
     "execution_count": 178,
     "metadata": {},
     "output_type": "execute_result"
    }
   ],
   "source": [
    "all_files[][0]"
   ]
  },
  {
   "cell_type": "code",
   "execution_count": 169,
   "id": "435473c2",
   "metadata": {},
   "outputs": [
    {
     "data": {
      "text/plain": [
       "['> *The following text is extracted and transformed from the 4sq.com privacy policy that was archived on 2019-12-31. Please check the [original snapshot on the Wayback Machine](https://web.archive.org/web/20191231230431id_/https%3A//foursquare.com/legal/privacy) for the most accurate reproduction.*',\n",
       " '# Foursquare',\n",
       " '**Last Updated: January 1, 2020**',\n",
       " 'For more information, see [Privacy on Foursquare](https://support.foursquare.com/hc/en-us/articles/201065830).',\n",
       " '## Foursquare Labs, Inc. Privacy Policy',\n",
       " 'This updated Privacy Policy covers Foursquare Labs, Inc. and all of its wholly owned subsidiaries, Placed, LLC, Foursquare Labs UK Limited, and Foursquare Labs Asia Pte. Ltd. (collectively, “Foursquare”, “we”, “us”, or “our”).',\n",
       " 'Foursquare knows that you take your privacy seriously. We do, too. We intend to be transparent with you about our data practices and to give you control over the information we collect about you (your “Data”), some of which may identify you or from which you may be identified (“Personal Information”).',\n",
       " 'Foursquare offers the following services:',\n",
       " '  1. Consumer Services, which include our websites ([www.foursquare.com](https://foursquare.com/), [developer.foursquare.com](https://developer.foursquare.com/) and [www.placed.com](https://www.placed.com/)) (collectively, the “Sites”), our Foursquare City Guide, Swarm and Marsbot mobile applications (collectively, the “Foursquare Apps”), our features (i.e. attributes that Foursquare makes available, such as the ability for users to create lists), content (e.g. tips, reviews, photos that users may provide), and widgets (i.e. applications that allow users to access the Apps), and our Panel App, Give to Charity, Frequent Flyer, and Pathkeeper applications (collectively, the “Placed Apps”, and together with the Foursquare Apps, the “Apps”) (Apps, combined with the Sites, collectively, the “Consumer Services”); and',\n",
       " '  2. Enterprise Services, which include our media, attribution, segments, visit feeds, analytics, Application Programming Interface (“API”) and Software Development Kit (“SDK”) products (collectively, the “Enterprise Services”).',\n",
       " 'This Privacy Policy is divided into four parts:  ',\n",
       " ' **Part I** applies to Data about users of our Consumer Services (“Foursquare Users”).  ',\n",
       " ' **Part II** applies to Data provided by customers of our Enterprise Services (“Enterprise Customers”) about users of Enterprise Customers’ products (“Partner End-users”).  ',\n",
       " ' **Part III** applies to Data about individuals other than Foursquare Users and Partner End-users, such as individuals acting in their professional capacity as representatives of a third party developer, vendor, partner or enterprise customer.  ',\n",
       " ' **Part IV** applies to all Data that we may collect and further process in the circumstances described in all of Parts I, II and III.',\n",
       " '### Part I – Foursquare Users',\n",
       " 'Below are the types of Data we collect about Foursquare Users and the ways in which we may collect, use and share that Data.',\n",
       " '#### What Data Does Foursquare Collect',\n",
       " 'Data You Provide To Us:',\n",
       " 'We receive and store Data that you provide to us when you create an account and use our Consumer Services. When you create an account, we collect your full name, email address, phone number, birthday, gender, the city in which you created your account, and where applicable, your Twitter, Facebook, Google or other social media username and other Data if you create an account using your third party log-in credentials (please see “Data Received From Third Parties” below). As you interact with us and use our Consumer Services, we also collect other Data that you directly provide to us, which on the Sites and Foursquare Apps may include pictures that you choose to upload to your account, any messages that you send to other users of the Apps, any restaurant or other venue searches you make, your likes, who you follow, check-ins, comments or tips you make, whether you have created or edited venues, and in the Placed Apps, survey responses, demographic information, and in both cases, any other Data that you voluntarily provide to us.',\n",
       " 'Data Collected When You Use Our Consumer Services:',\n",
       " 'If you opt-in to sharing your location with us, we automatically receive Data about your location and/or IP address whenever you interact with, or use, the Consumer Services (e.g. open the App, visit our Sites, etc.). If you opt-in to have background location turned on in our Apps, we will collect Data about you even when you are not using the Apps and the Apps are closed (as permitted by your device settings).',\n",
       " 'We use various technologies to determine your precise location, such as the location services of your operating system or browser, sensor data from your device (e.g. magnetometer, barometer, gyroscopes, accelerometers, compasses, Bluetooth data, beacon data, Wi-Fi access points, GPS data, and cell tower data), and other Data that may help us to understand your precise location.',\n",
       " 'We also collect additional Data about you when you use the Consumer Services. For example, we receive Data:',\n",
       " '  * relating to how you interact with the Consumer Services, such as your search terms, what pages you view, your access times, the time you spend on each page, your IP address, the redirected pages, or posts you make to the Consumer Services;',\n",
       " '  * relating to your device, such as your hardware model, operating system and version, unique ID and device identifiers, sensor activity, browser type, language, and wireless network, mobile device name, mobile apps installed; and',\n",
       " '  * collected by cookies and other technologies, such as cookie ID, advertising ID or other unique advertising ID, web beacons, local storage and pixels. You can control certain types of cookies through your browser settings or other tools. You may review our [Cookie Policy](https://foursquare.com/legal/cookiepolicy) for further information.',\n",
       " 'You may turn off location services at any time by going to your device settings and toggling off background location. For more information about location, please see “Determining and Sharing Location” below.',\n",
       " 'Data Received From Third Parties',\n",
       " 'We may receive Data about you from third parties, including Enterprise Customers (e.g. customers of our Media Products) and/or third parties with services that interact with the Consumer Services or that provide services to us, such as unaffiliated apps and websites (e.g., websites and applications offered by third party developers that integrate with our API, referral partners, advertising exchanges, ad platforms, ad networks or from our partners), and from other business partners, including third parties from whom we license Data. This Data includes Data about your activity when using the Consumer Services or on unaffiliated websites and apps, or Data received from web browsers or operating systems such as browser types and settings, the operating systems, device models, carriers, location information, IP address, mobile device and advertising identifiers (e.g. Apple IDFA or Google Advertising ID), as well as cookie information, pixel or other similar technology. If you created your account using your Google, Twitter or Facebook account profile, we may receive certain information from these companies, such as your first name, last name, gender, birthday, email address and your unique ID assigned from these social media platforms. All data collection is in accordance with the authorization procedures granted by the applicable social media platform.',\n",
       " '#### How Is My Data Used?',\n",
       " 'Below are the ways that we use Data about Foursquare Users.',\n",
       " 'To Operate, Maintain And Improve The Consumer Services',\n",
       " 'We use your Data to operate and maintain the Consumer Services, and to understand you better and tailor the Consumer Services to you. If you download more than one App, we combine your Data provided in each App. If you use the Consumer Services when you are not logged into your Foursquare account, when you subsequently log into your Foursquare account, we combine Data collected while you were not logged in with your Foursquare account.',\n",
       " 'We also use your Data for research and development, to improve the Consumer Services, or to offer new products, features and tools, and to infer certain details about you, including demographic information and whether separate devices are owned by you or by members of your household, but only to the extent that this is in compliance with applicable law. For example, we may redesign the Apps to make it easier for you to search for restaurants in Foursquare City Guide or to earn points or rewards in the Panel App from Placed. We also use your Data to customize our Apps and Sites to provide you with your own personalized experience. We do this by inferring your interests and preferences, looking at your search history, or in the Foursquare Apps, by allowing you to find and add friends who are also using the Foursquare Apps and Sites from your device’s contact list or, if applicable, your Facebook, Google or Twitter account, if you have opted to connect these accounts to your Foursquare account. In these situations, we do not store your contact lists.',\n",
       " 'We also use your Data to help us map Locations (as defined below). For example, we may use device signals to determine that a particular device is within a particular venue. Additionally, if you consent to sharing crash data (when the Apps crash) with us, we may use that data to help us analyze the cause of the crash.',\n",
       " 'Communicate With You',\n",
       " 'We use your Data to communicate with you, including by email, text (only if you opt-in), or in our Apps, about new product offerings, updates to the Consumer Services, or anything else we think may be of interest to you. To opt out of receiving Foursquare marketing and promotional communications, please click [here](https://web.archive.org/settings/notifications) and follow the instructions. To opt out of receiving Placed marketing and promotional communications, you can follow the instructions contained in those messages.',\n",
       " 'When you opt out of marketing and promotional communications from either Foursquare or Placed, please note that we may still send you non-promotional communications, such as those about your account or any ongoing business relations.',\n",
       " 'Contests and Rewards',\n",
       " 'We may use your Data and completed surveys to enable you to earn points. You may redeem your earned points for rewards or sweepstake entries. If you elect to enter a sweepstakes, we will use your email address and name associated with your account to run the sweepstake and fulfill the prize to you.',\n",
       " 'Protection Of Our Rights',\n",
       " 'We may use your Data to protect the rights, property or safety of Foursquare, the Consumer Services, our users and employees, or any third party. For example, we may use your Data if we need to enforce or apply our Terms of Service or Policies.',\n",
       " 'Enterprise Services',\n",
       " 'We use your Data in our Enterprise Services and in other services that we may provide to businesses. For example, we may identify where you shop and the places you visit to help our partners measure the success of a media campaign, to categorize your mobile advertising identifier in an interest-based segment based on where you shop or visit, or when partners use our SDK, we may receive certain Partner End User Data back (e.g., wifi end points, Visit Data, and other Data), including Data about Foursquare Users, if the Partner End-Users are also users of our Consumer Services. We may use this Data for our business purposes or to improve the Enterprise Services. As always, you can always opt-out of this type of sharing by disabling your background location services for the Apps. See also “Media Products” section of Part III below.',\n",
       " 'Where GDPR applies to the processing of your Personal Information, we rely on several legal bases. These include:',\n",
       " '  * When the processing is necessary to perform our contract with you, such as our Terms of Service. This may include providing you with our Consumer Services or tailoring the Consumer Services to your preferences;',\n",
       " '  * When the processing is necessary for our legitimate business interests (or those of our Enterprise Customers), including but not limited to, improving the Consumer Services, or understanding how users are using our Apps and Sites, providing our Enterprise Services and other services to businesses, marketing new features and other services that may be of interest to you;',\n",
       " '  * When you have given us your consent, including as described in this Privacy Policy. You may withdraw your consent to processing at any time using the settings on your device or in your account;',\n",
       " '  * When we have a legal obligation to do so, as described in this Privacy Policy.',\n",
       " '#### When Is My Data Shared?',\n",
       " 'We may rent or sell certain Data about you as further described in our privacy policy or when you have given us consent to do so.',\n",
       " 'Data That May Be Shared With Other Users',\n",
       " 'When you use the Foursquare Apps and Sites, your authorized friends may see some of your Personal Information, such as your name, email address, phone number associated with your account, profile photo, hometown, mayorships and badges/stickers, and links to your Twitter and Facebook accounts (if you have connected those accounts to your Foursquare account), a list of your friends, a map of your check-in history, any content or comments that you post, and which Apps you use. When you communicate on or through the Foursquare Apps and Sites, such as by direct messaging to your friends or checking-in to a business, an establishment, or a location (each a “Location”), such as a gym or a restaurant, your friends may see this Data, too. You can always control what you want visible to others, including your friends, at any time by clicking on “Settings” in your account and making your choices.',\n",
       " 'Publicly available Data such as the Data available in your user public profile, tips, likes, saves, public photos, lists that you create and follow, tastes, badges/stickers, mayorships, and lists of friends and/or followers may be searchable by search engines and be shared with or disclosed to third parties, including through our Enterprise Services to our partners and customers.',\n",
       " 'Data That May Be Shared With Third Party Partners And Service Providers',\n",
       " 'We sometimes use service providers, vendors and contractors to provide or perform services on our behalf. These include providers who host our Data or help us provide a better service to you. In these cases, we may need to share your Personal Information with them. Our service providers, vendors and contractors will be subject to contractual obligations to: (i) only process the Personal Information in accordance with our prior written instructions; (ii) not use the Personal Information for their own purposes; and (ii) use appropriate measures to protect the confidentiality and security of the Personal Information; together with any other additional requirements we have or that are available under applicable law. These service providers, vendors and contractors are in the following categories:',\n",
       " '  * cloud storage providers located in the United States, such as Amazon Web Services and MongoDB, which store your personal data that you provide to us, and for disaster recovery services;',\n",
       " '  * IT Services providers located in the United States that provide us with SaaS services including Databricks who we use to help us manage our data effectively, and Fastly, our content delivery network, etc;',\n",
       " '  * provided you have consented to receive tailored advertising, advertisers and advertising networks such as AdColony, AppLovin, Liftoff located in United States and Canada; and',\n",
       " '  * analytics and search engine providers, such as Branch, mParticle, and Google, which store your personal data in the United States that assist us in the improvement and optimization of the website.',\n",
       " 'When we partner with a business, we may share Data with them but only in aggregate or in some cases, we may share an ID such as an advertising identifier. We share such Data so that our partner can measure conversion as to whether an individual has seen its ad, visited its website, or went to its brick and mortar location. When such Data is shared with our partners to measure conversion, the Data is blurred so that your detailed location trail history cannot be retraced or identified. We may also share or disclose aggregated or anonymous Data to other third parties, including Foursquare Users you may follow, and developers who use our API or SDK, or our other Enterprise Customers, for analytical or other purposes. See also “Media Products” section of Part III below.',\n",
       " 'When You Consent',\n",
       " 'Except as permitted under this Privacy Policy, we will only share your Personal Information with your consent. For example:',\n",
       " '  * If you consent or authorize a third party app to access your Foursquare account, we may share your Data with such third party app. You can revoke your consent at any time in your Foursquare account profile settings. At this time, there is no third party authentication in the Placed Apps.',\n",
       " '  * We sometimes offer contests through the Consumer Services. In these cases, we partner with a third party to fulfill the prizes. If you have entered a contest, we will only share your contact information or other necessary information,',\n",
       " 'Other times',\n",
       " 'We may share your Data when we believe in good faith that such release is necessary to comply with law or a legal process, including laws outside your country of residence; to protect our rights, property, or safety of Foursquare, our employees, the Consumer Services and others.',\n",
       " 'We may share your Data as part or in anticipation of a business sale, merger, consolidation, investment, change in control, transfer of substantial corporate assets, reorganization, liquidation, or similar business transaction or corporate event.',\n",
       " '#### Determining and Sharing Location',\n",
       " 'Some features and functionality in our Apps may require that you provide your location. If you have your location services turned on, whenever you open and use or interact with our Apps (e.g. write a tip, check in to a restaurant, or take surveys to earn points or receive other benefits) on your mobile device, we collect and use your location data from your mobile device (e.g., latitude and longitude) to tailor the Consumer Services to your current location (i.e. we’ll show you a list of nearby locations) or to invite you to participate in a survey). We will only process your location data with your express permission. If you have persistent background location data turned on by granting us permission through your device’s location settings and in your privacy settings, we will obtain your device’s location even if you are not directly interacting with the Apps. Your location data is never shared with others, except with your consent or as permitted under this Privacy Policy.',\n",
       " 'In the Swarm App, your location is also shared to your approved friends and to us when you \"check in\" on the Swarm App to let the Consumer Services know that you\\'re at a particular Location or, if you have turned on \\'check-in by friends,\\' when your friend tags you in his or her check in. Additionally, when you send a message in Swarm, your mobile device\\'s location is shared with all recipients of the message. While your location will still be collected by us, you can check-in “off the grid” so that you are not sharing your specific whereabouts with friends.',\n",
       " 'Each of your check-ins using the Consumer Services is saved to your \"Check-in History,\" which allows you and your friends to look back at the locations where you have checked in since you created your account. You can delete any of your check-ins from the check-in page in our Apps. If for any reason you ever decide to delete your Data, your account and your Data will be permanently deleted from the Consumer Services.',\n",
       " '#### What About Cookies and Similar Technologies?',\n",
       " 'We may use technologies like cookies, pixels, web beacons, local storage and other identifiers on our Sites, in our emails, within our Apps and sometimes in third party apps that use our API or SDK to provide you with a range of products and services. We use these technologies for a number of purposes, such as for authentication, security, preference settings, advertising and analytics. We sometimes work with advertisers or other partners, and advertising service providers to serve ads to you on the Consumer Services, or a third party website or app, that may be relevant to you based on your interaction with the Consumer Services, including places you have “checked in”.',\n",
       " 'You can control cookies through your browser settings and other tools. If you reject cookies, this could affect the availability and functionality of the Consumer Services. For more information, including the types of cookies and similar technologies found on Foursquare, please read our [Cookie Policy](https://web.archive.org/legal/cookiepolicy).',\n",
       " '#### How do I Access or Delete My Data?',\n",
       " 'You may access and update your Data at any time through the “Settings” tab in your Foursquare or Swarm account. To view every Location that you have visited, you may access this Data in the Foursquare City Guide History tab or the homepage of the Swarm app. You may also request a copy of your Data by (a) logging into your Swarm account or (b) logging into your City Guide account (web only), and clicking on Privacy Settings and selecting “Export My Data.”',\n",
       " 'You may also delete your Data and account at any time on our Sites by clicking on the Delete Your Account link in your Privacy Settings page through your web account. If you delete your Data, your profile, including your check-in history, tips and photos, badges and stickers received will be removed from the Consumer Services, and you will no longer be able to access such Data. We will not be able to restore your account once it has been deleted. Deletion of your account may not be immediate. Residual copies of your Personal Information or posts may remain on backup media for a short period of time thereafter.',\n",
       " 'If you wish to delete your Placed account, you can do so by deleting the Placed App or sending an email to privacy@foursquare.com.',\n",
       " 'Additionally, we may store certain Data in our internal systems, which we may use in our Enterprise Services. We may also retain Data as required by applicable law and we will not delete any Data that is not Personal Information, i.e., has already been anonymized.',\n",
       " 'If you have questions about accessing, updating, or deleting your Data, please email [privacy@foursquare.com](mailto:privacy@foursquare.com)',\n",
       " '#### Can I Opt Out?',\n",
       " 'How to Opt Out of Marketing and Promotional Emails and Text Messages',\n",
       " '  * By Email: You can opt out of marketing or promotional emails at any time by adjusting your preferences in your “settings” in the Apps or [here](https://foursquare.com/settings/privacy), if you are logged into your web account. You may also unsubscribe from emails in the footer of any marketing or promotional email. Please note that you cannot opt out of service or legal notices.',\n",
       " '  * By SMS: If you have opted in to receive SMS messages, you can always unsubscribe at any time by texting STOP in response to a message or by following the instructions in the SMS.',\n",
       " 'How to Opt-Out of Interest-Based Advertising',\n",
       " 'We adhere to the Digital Advertising Alliance (“DAA”) Self-Regulatory Principles for Online Behavioral Advertising. At this time, however, we do not honor web browser Do Not Track (“DNT”) signals or other similar mechanisms.',\n",
       " 'You may opt out of interest-based advertising as follows:',\n",
       " '  * You may opt out of seeing interest-based ads from us or our third party advertising partners on your desktop browser and/or mobile web browser by visiting the DAA at <http://www.aboutads.info/choices/> or by visiting the Network Advertising Initiative (“NAI”) at <http://www.networkadvertising.org/choices/>.',\n",
       " '  * You may opt out of seeing interest-based ads in the Apps by downloading the DAA’s AppChoices application, which is available at <http://www.aboutads.info/appchoices>.',\n",
       " '  * Certain versions of your device’s operating system permit you to opt out of interest based advertising. Please visit your device settings to limit such tracking.',\n",
       " 'Please note that when you opt out of interest-based ads, you will still see ads, but they will no longer be based on your interests or behavior. After you have opted out, we will no longer use any Personal Information, including your location data collected from you on that particular browser or device for advertising purposes. We will also be unable to connect that device or browser to a different device or browser.',\n",
       " 'For information about California rights to opt-out from the sale of Personal Information, Please see the section titled “California Residents” in Section IV below.',\n",
       " 'How to Remove Background Location Sharing?',\n",
       " 'If you use our Apps and have opted-in to sharing your background location with us, you may remove your permission at any time by going into your operating device settings and toggling off background sharing.',\n",
       " '### Part II - Partner End-Users',\n",
       " 'Below are the ways in which we collect, use and share Data about Partner End-Users.',\n",
       " '#### API or Data Files',\n",
       " 'We share Data with third-party developers via our API, which may also involve those third-party developers agreeing to share Data with us (for example, when a Partner End-User tags a social post with a Location they have visited using our API) about Partner End-Users with us. In some cases, they have committed not to share Partner End-User Data with us if it comprises Personal Information or without the Partner End-User consenting to the sharing. We may also share Data with third-party developers via flat data files, and may receive a flat data file from developers in return.',\n",
       " '#### SDK Products',\n",
       " 'App developers partner with us to use our SDK, which they integrate into their own apps to help them identify when Partner End-Users are near interesting places of relevance to their service (e.g. a nearby store with respect to which they can offer a coupon), personalize content or information alerts for their locale, identify accurate venue data (such as the geo-coordinates of a restaurant or store) or to better understand their end users by identifying how often their end users have visited a specific venue or chain store (“Visit Data”). When partners use our SDK, we receive certain Partner End-User Data back (e.g. wifi end points, Visit Data, and other Data) if our Partner has contractually agreed to allow us to retain and use such Partner End-User Data. We incorporate such Partner End-User Data into our Enterprise Services, and if contractually permitted, license such Partner End-User Data to business partners. In some cases, if contractually permitted, we share unique IDs such as an advertising IDs.',\n",
       " 'In addition, we may acquire data from third parties and append such information to Partner End-User Data. We will delete Partner End-User Data if requested by our partners.',\n",
       " 'In the event that a Partner End-User is also a Foursquare User, we combine all data about the user into a single profile.',\n",
       " '### Part III – Individuals Who Are Not Foursquare Users or Partner End-Users',\n",
       " 'Below are the ways in which we collect, use and share Data about individuals who are not Foursquare Users or Partner End-Users.',\n",
       " '#### Media Products',\n",
       " 'We, our partners, and advertising service providers receive Data from unaffiliated apps and websites, advertising exchanges, ad platforms, ad networks or from our partners, which we, our partners and advertising service providers may use to send interest-based advertising. The Data collected for this purpose includes Data such as activity when using the Consumer Services or on unaffiliated websites and apps, or Data received from web browsers or operating systems such as browser types and settings, the operating systems, device models, carriers, location information, IP address, mobile device and advertising identifiers (e.g. Apple IDFA or Google Advertising ID), as well as cookie information, pixel or other similar technology.',\n",
       " 'We combine the Data described above with demographic, location and other interest-based segment Data from third parties to provide the Enterprise Services.',\n",
       " 'When we partner with a business, we share advertising identifiers and other Data in aggregate form. When we share advertising identifiers so that our partner can measure conversion as to whether an individual has seen its ad, visited its website, or visited their brick and mortar location. We may also share your tips and public photos that you have posted to the Consumer Services.',\n",
       " '#### Other',\n",
       " 'We collect Data about individuals acting in their professional capacity as a representative of a third party developer, vendor, partner or enterprise customer. We may collect their names, job titles, phone numbers, email addresses and/or billing addresses (of their organization), so that we can contact and interact with these organizations in relation to the contracting process, billing, and/or promotions. We do not combine Data from these individuals with any Data about users of our Consumer Services.',\n",
       " 'In the case of developers who use our API or SDK, we also collect Data that developers provide on their developer account profiles, as well as certain Data that we process when a developer uses his or her account (such as time of use and device information).',\n",
       " 'We share Data we collect about these individuals with service providers, vendors and contractors to provide or perform services on our behalf, such as providers that help us manage customer relationships, sales, and marketing for Foursquare or may, in some cases, share Data about these individuals with our Enterprise Customers. Our service providers, vendors and contractors will be subject to contractual obligations to: (i) only process this Data in accordance with our prior written instructions, and not use the Data for their own purposes; (ii) use measures to protect the confidentiality and security of the Data; (iii) comply with additional requirements under applicable law. We also share this Data when we believe in good faith that such release is necessary to comply with law or a legal process, including laws outside the individual’s country of residence; to protect our rights, property, or safety of Foursquare, our employees, the Consumer Services and others. We will also share this Data as part or in anticipation of a business sale, merger, consolidation, investment, change in control, transfer of substantial corporate assets, reorganization, liquidation, or similar business transaction or corporate event.',\n",
       " '### Part IV – Individuals Described In All of Parts I, II and III.',\n",
       " 'This Part IV applies to Data about individuals that we collect, including the Data that we have collected in the past 12 months in the circumstances described in all of Parts I, II and III, as set forth in more detail in the table below.',\n",
       " 'Category| Purpose of Collection| Disclosed to Third Parties| Purpose for Disclosure| Sold to Third Parties| Purpose for Sale  ',\n",
       " '---|---|---|---|---|---  ',\n",
       " 'User provided Data (i.e. identifiers, such as, first name and last name, email address, phone number, gender, age, hometown, and if provided to us, ethnicity, education level, income, relationship status, number of children and any other information you give us)| We use this Data to tailor your experience on our services.| We may need to disclose this Data with service providers such as our cloud storage providers.| We disclose this Data as needed to our service providers so they can perform services on our behalf.| We may use certain identifiers to help us generate an aggregated report that we sell to advertisers and agencies.| We may sell reports that contain aggregated information to help advertisers and agencies measure advertising impact.  ',\n",
       " 'Check-ins (i.e. geolocation Data, dwell time, and venue information)| We use this Data to provide you with the places that you have checked in or may have visited. We may also use this Data in our Media Products.| We may need to disclose this Data with service providers such as our cloud storage providers.| We disclose this Data as needed to our service providers so they can perform services on our behalf.| We do not sell any raw check-in Data. We may sell this Data, in an aggregated form, and in some cases, by advertising identifier, to advertisers and agencies.| We sell aggregated Data (which may include advertising identifier) so that third parties may perform analytics about your offline behaviors, to deliver targeted advertising to you, and to measure advertising impact.  ',\n",
       " 'Survey responses (i.e. your answers to surveys that we send to you)| We use your survey responses as a means to validate your visits to certain locations. Your responses are aggregated and may be used in our Media Products. We may also use survey responses to conduct general market research to improve our own products or on behalf of our customers.| We may need to disclose this Data with service providers such as our cloud storage providers.| We disclose this Data as needed to our service providers so they can perform services on our behalf.| We may aggregate survey responses without identifying you.| We sell aggregated responses to help advertisers and agencies measure media campaigns.  ',\n",
       " 'Account usage Data (i.e. friends that you add, lists that you create, photos you upload)| We use this Data to make your experience on our consumer services more social and interactive with your friends. We may also use certain usage Data in our Media Products.| We may need to disclose this Data with service providers such as our cloud storage providers.| We disclose this Data as needed to our service providers so they can perform services on our behalf.| We may sell any tips and photos that you provide about a location that you have visited on our Services to our customers.| We sell this to enable our customers to post your tips and photos that you have made public to a location on their apps and websites.  ',\n",
       " 'Device level information (i.e. Internet and other network activity information, including advertising identifier, cookies, IP address, device model, operating system, MAC address, app version, network provider, battery strength and status)| We use this Data to protect the security of your account. tailor your experience in our apps, and to remember your personalized settings. We may also use certain device level information in our Media Products.| We may need to disclose this Data with service providers such as our cloud storage providers.| We disclose this Data as needed to our service providers so they can perform services on our behalf.| We include advertising identifier and/or cookies in certain products, which we sell to advertisers and agencies.| We sell these products so that third parties may perform analytics about your offline behaviors, to deliver targeted advertising to you, and to measure advertising impact.  ',\n",
       " 'Location Signals (i.e. Bluetooth and wifi data)| We use this Data to protect the security of your account. We may also use certain device level information in our Media Products.| We may need to disclose this Data with service providers such as our cloud storage providers.| We disclose this Data as needed to our service providers so they can perform services on our behalf.| We may sell this Data to customers.| We sell this Data to our customers so that they can offer better location-based services to their customers.  ',\n",
       " 'Inferred Data (i.e. inferred demographic information, inferred home/work, inferred places you have visited)| We may use this Data to help our Media Products.| We may need to disclose this Data with service providers such as our cloud storage providers.| We disclose this Data as needed to our service providers so they can perform services on our behalf.| We may sell this Data to advertisers and agencies.| We sell this Data so that third parties may perform analytics about you, to deliver targeted advertising to you, and to measure advertising impact.  ',\n",
       " 'Other third party information| We may use this Data to help our Media Products.| We may need to disclose this Data with service providers such as our cloud storage providers.| We disclose this Data as needed to our service providers so they can perform services on our behalf.| We may sell this Data to advertisers and agencies.| We sell this Data so that third parties may perform analytics about you, to deliver targeted advertising to you and to measure advertising impact.  ',\n",
       " '  ',\n",
       " '#### GDPR Rights',\n",
       " 'Subject to applicable law, you may have a number of rights regarding the processing of your Personal Information, including:',\n",
       " '  * the right to request access to, or copies of, your Personal Information that we process or control, together with information regarding the nature, processing and disclosure of that Personal Information;',\n",
       " '  * the right to request rectification of any inaccuracies in your Personal Information that we process or control;',\n",
       " '  * the right to request, on legitimate grounds:',\n",
       " '    * deletion of your Personal Information that we process or control; or',\n",
       " '    * restriction of processing of your Personal Information that we process or control;',\n",
       " '  * the right to object, on legitimate grounds, to the processing of your Personal Information by us or on our behalf;',\n",
       " '  * the right to have your Personal Information that we process or control transferred to another data controller, to the extent applicable;',\n",
       " '  * where we process your Personal Information on the basis of your consent, the right to withdraw that consent; and',\n",
       " '  * the right to file a complaint with a Data Protection Authority regarding the processing of your Personal Information by us or on our behalf.',\n",
       " '  * This does not affect your statutory rights.',\n",
       " 'To exercise one or more of these rights, or to ask a question about these rights or any other provision of this Privacy Policy, or about our processing of your Personal Information, please use the contact details provided in the Contact Us section.',\n",
       " 'To maintain our commitment of safeguarding the privacy of your Personal Information, we will only process requests, including but not limited to, data access requests, data deletion requests, data portability requests, if we are able to verify or authenticate your identity. If we are unable to verify or authenticate your identity, we will not be able to fulfill your request. If you are not an end user of the Apps or are not an end-user of a Partner App, we cannot fulfill your request as there is no way for us, at this time, to accurately verify or authenticate your identity.',\n",
       " 'If you believe we have obtained your Data from an Enterprise Customer or another third party (e.g. publisher), and wish to exercise a right to access or export or delete that data, please contact the relevant Enterprise Customer or third party to exercise any rights you may have. We do not have control over their policies. However, if notified by an Enterprise Customer or third party to delete your Data, we will honor such requests and promptly delete Data about you that we obtained from such Enterprise Customer or third party.',\n",
       " '#### California Residents',\n",
       " 'If you are a California resident, you have the following rights below. We will not discriminate against any California resident who exercises these rights. If you are not a California resident, we may, at our discretion, respond to requests relating to the below.',\n",
       " 'Right to access/know',\n",
       " 'You may request from us a list of: (i) the Personal Information that we have collected about you; (ii) the categories of third parties to whom we have disclosed your Personal Information; and (iii) the categories of third parties to whom we have sold your Personal Information. You have the right to up to two (2) access requests each twelve (12) months.',\n",
       " 'Right to delete your Personal Information',\n",
       " 'You may request, at any time, to delete your account and your Personal Information.',\n",
       " 'Right to opt out from the sale of your Personal Information',\n",
       " 'You may request, at any time, to direct us to stop selling your Personal Information. You may make this request by clicking the “Do Not Sell My Personal Information” button located at www.foursquare.com.',\n",
       " 'You may contact us in relation to these rights by completing this [form](https://web.archive.org/data-requests) or by contacting us at our toll-free number (855) 505-8916 (US only) or as otherwise indicated below. We will not use the information you provide as part of your request for any other purpose other than to fulfill your opt out request.',\n",
       " 'Request Verification',\n",
       " 'To ensure the privacy and protection of individuals, we are required to verify or otherwise authenticate your request(s). To verify your request for access or deletion of your Personal Information, we require that you log into your account with Foursquare, and make a request here. If you do not have an account with us, we are unable to fulfill your request because we cannot verify or authenticate your request.',\n",
       " 'In relation to the opt-out request above, we require that you provide us with your device identifier, which we will use to opt you out.',\n",
       " 'If you do not know your device identifier, please read below for instructions on how to obtain your device identifier. We will not use the information you provide as part of your request for any other purpose other than to fulfill your opt out request.',\n",
       " '  * If you use an iOS operating system, a third-party tool is required to locate your Apple IDFA. Please note that we do not control such third-party tools and are not responsible for their content, their privacy policies, or their use of your Personal Information. When you provide Data to a third-party, the Data you provide may be separately collected by that third-party. The Data the third-party collects is subject to that third-party’s privacy practices. Privacy choices you make on the third-party website or app will not apply to our use of the Data we collect.',\n",
       " '  * If you use an Android operating system, open the Google Settings app on your Android device and select “Ads.” Your Advertising Identifier should be listed at the bottom of the screen.',\n",
       " 'You may also submit such requests through an authorized agent. To designated an authorized agent, please send us a notarized power of attorney. Requests from agents that do not submit such proof that they have been authorized by you to act on their behalf will be denied.',\n",
       " 'If you are a user of this service and a California resident under the age of 18, you may request to have your posted content or Data removed from the publicly-viewable portion of this web site by logging into your account and removing your posted content or Data from the webpage where it is posted, or contacting us directly. Content or Data may not be removed from our systems or databases. In certain situations, content or Data cannot be removed.',\n",
       " 'As a California resident, you may contact us with any questions or to request a list of third parties to whom we may disclose your Data for such third parties’ marketing purposes and the categories of Information we may disclose. See Contact Us below.',\n",
       " '#### Security',\n",
       " 'We use industry standard physical, technical, and logical security measures to protect your Data. We endeavor to safeguard your Data to ensure that it is kept secure. However, we cannot guarantee the security of Data in an account from unauthorized entry or use, hardware or software failure, and other factors.',\n",
       " 'Your account is protected by a password that you have chosen. We recommend using a password that is unique to your Foursquare or Swarm account. If you use the Consumer Services on public or shared networks (e.g. public wifi), we cannot ensure the security of your account.',\n",
       " '#### Children under 13',\n",
       " 'Neither the Consumer Services nor the Enterprise Services are directed to individuals who are under 13 years of age. We do not knowingly collect any Data from children under 13. If you notice or suspect that a user is under 13, please contact us immediately at [privacy@foursquare.com](mailto:privacy@foursquare.com).',\n",
       " '#### Personal Information Retention',\n",
       " 'The criteria for determining the duration for which we will keep your Personal Information are as follows: we will retain copies of your Personal Information only for as long as you maintain your account or as necessary in connection with the purposes set out in this Privacy Policy, unless applicable law requires a longer retention period. In addition, we may retain your Personal Information for the duration of any period necessary to establish, exercise or defend any legal rights.',\n",
       " '#### International Users',\n",
       " 'Our Apps and all of our data, including your Data, are hosted on servers in the United States. If you are using or accessing the Consumer Services or Enterprise Services from outside of the United States, your Data will be transferred to, processed and stored in the United States. As a result, United States federal and state governments, courts, or law enforcement or regulatory agencies may be able to obtain your Data through laws applicable in the United States. United States laws may not offer the same privacy protections as the law of your jurisdiction.',\n",
       " 'Foursquare complies with the EU-U.S. Privacy-Shield Framework and Swiss-U.S. Privacy-Shield Framework (“Privacy Shield”) as set forth by the U.S. Department of Commerce regarding the collection, use, and retention of Personal Information transferred from the European Union (the “EU”) and Switzerland to the United States, respectively. Foursquare Labs, Inc. has certified to the Department of Commerce that it adheres to the Privacy Shield Principles (the “Principles”). All Personal Information Foursquare receives from the EU in reliance on the Privacy Shield are subject to the Principles. All Foursquare entities, including Foursquare Labs, Inc., Placed, LLC, Foursquare Labs UK Limited and Foursquare Labs Asia Pte. Ltd, adhere to the Principles, where applicable. If there is any conflict between the terms of this Privacy Policy and the Principles, the Principles shall govern. To learn more about the Privacy Shield program, and to view our certification, please visit <https://www.privacyshield.gov/>.',\n",
       " 'You have the right to access your Personal Information. In compliance with the Principles, Foursquare commits to resolve complaints about our collection or use of your Personal Information. EU and Swiss individuals with inquiries or complaints regarding our Privacy Shield policy should first contact us at [privacy@foursquare.com](mailto:privacy@foursquare.com). Foursquare has further committed to refer unresolved Privacy Shield complaints to JAMS, an alternative dispute resolution provider located in the United States. If you do not receive a timely acknowledgment of your complaint from us, or if we have not resolved your complaint, please contact or visit JAMS for more information or to file a complaint: <https://www.jamsadr.com/file-an-eu-us-privacy-shield-claim>. The services of JAMS are provided at no cost to you.',\n",
       " 'You have the ability, under certain conditions, to invoke binding arbitration for complaints regarding Privacy Shield compliance not resolved by any of the other Privacy Shield mechanisms. For more information, please visit: <https://www.privacyshield.gov/article?id=ANNEX-I-introduction>.',\n",
       " 'The Federal Trade Commission has jurisdiction over Foursquare’s compliance with Privacy Shield. This is in addition to our requirement to disclose Personal Information to public authorities upon the receipt of a lawful request, including requests made in relation to national security or law enforcement requirements, as discussed above in this Privacy Policy.',\n",
       " 'If we transfer your Personal Information to a third party acting as our agent, we remain responsible for how that Personal Information is processed. This means that we will remain liable under the Principles if any third party acting as our agent processes your Personal Information in a manner inconsistent with the Principles, unless we were not responsible for the event giving rise to the damage.',\n",
       " '#### Changes to this Privacy Policy?',\n",
       " 'Foursquare may amend this Privacy Policy from time to time. We encourage you to regularly check this page to review any changes we might make in accordance with this Privacy Policy. If we make material changes in the way we use your Data, we will notify you by posting an announcement on our Sites or Apps, or by sending you an email (if we have your email). If permitted by law, users are bound by any changes to this Privacy Policy when they use the Consumer Services and Enterprise Services after such changes have been first posted.',\n",
       " '#### Contact Us',\n",
       " 'If you have any questions or concerns regarding this Privacy Policy, please send a detailed message to: [privacy@foursquare.com](mailto:privacy@foursquare.com) or Foursquare Labs, Inc., 50. West 23rd Street, 8th Floor, New York, NY 10010. We will make every effort to resolve your concerns.',\n",
       " 'Verasafe has been appointed as Foursquare’s representative in the European Union for data protection matters, pursuant to Article 27 of the General Data Protection Regulation of the European Union. Verasafe can be contacted, in addition to [Foursquare](mailto:privacy@foursquare.com), for matters related to the processing of your personal data only. To make such an inquiry, please contact VeraSafe:',\n",
       " '  * online: <https://www.verasafe.com/privacy-services/contact-article-27-representative/>; or',\n",
       " '  * by mail: VeraSafe Ireland Ltd., Unit 3D North Point House, North Point Business Park, New Mallow Road, Cork T23AT2P, Ireland']"
      ]
     },
     "execution_count": 169,
     "metadata": {},
     "output_type": "execute_result"
    }
   ],
   "source": [
    "lines"
   ]
  },
  {
   "cell_type": "code",
   "execution_count": null,
   "id": "d44a15c0",
   "metadata": {},
   "outputs": [],
   "source": []
  }
 ],
 "metadata": {
  "kernelspec": {
   "display_name": "Python 3 (ipykernel)",
   "language": "python",
   "name": "python3"
  },
  "language_info": {
   "codemirror_mode": {
    "name": "ipython",
    "version": 3
   },
   "file_extension": ".py",
   "mimetype": "text/x-python",
   "name": "python",
   "nbconvert_exporter": "python",
   "pygments_lexer": "ipython3",
   "version": "3.8.11"
  }
 },
 "nbformat": 4,
 "nbformat_minor": 5
}
